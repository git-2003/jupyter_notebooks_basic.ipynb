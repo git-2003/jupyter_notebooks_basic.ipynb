{
  "metadata": {
    "kernelspec": {
      "name": "python",
      "display_name": "Python (Pyodide)",
      "language": "python"
    },
    "language_info": {
      "codemirror_mode": {
        "name": "python",
        "version": 3
      },
      "file_extension": ".py",
      "mimetype": "text/x-python",
      "name": "python",
      "nbconvert_exporter": "python",
      "pygments_lexer": "ipython3",
      "version": "3.8"
    }
  },
  "nbformat_minor": 4,
  "nbformat": 4,
  "cells": [
    {
      "cell_type": "markdown",
      "source": "# Data Science Tools and Ecosystem\n",
      "metadata": {}
    },
    {
      "cell_type": "markdown",
      "source": "In this notebook Data Science Tools and Ecosystem are summarized.",
      "metadata": {}
    },
    {
      "cell_type": "markdown",
      "source": "### Introduction for the Data Science Tools and Tasks:\n### The Data Science Task Categories include:\n1) Data Management -  storage, management and retrieval of data\n2) Data Integration and Transformation - streamline data pipelines and automate data processing tasks\n3) Data Visualization - provide graphical representation of data and assist with communicating insights\n4) Modelling - enable Building, Deployment, Monitoring and Assessment of Data and Machine Learning models\n",
      "metadata": {
        "jp-MarkdownHeadingCollapsed": true
      }
    },
    {
      "cell_type": "markdown",
      "source": "### Some of the popular languages that Data Scientists use are:\n1. Python\n2) SQL\n3) Java\n4) Julia\n5) Scala",
      "metadata": {
        "jp-MarkdownHeadingCollapsed": true
      }
    },
    {
      "cell_type": "markdown",
      "source": "### Some of the commonly used libraries used by Data Scientists include:\n1) Matiplotlib\n2) Plotly|\n3) Keras\n4) TensorFlow\n5) Pytorch\n6) Scrapy\n7) Numpy\n   ",
      "metadata": {}
    },
    {
      "cell_type": "markdown",
      "source": "### Below is the Table for Data Science Tools and it's functions\n| Data science Tools | Names of the tools | Function|\n|--------------------|--------------------|---------|\n|Data management | MongoDB and Apache Cassandra | Used for No SQL Databases|\n|Data Integration and Transformation |Apache Airflow and Apache Kafka|Used for integration|\n|Data Visualization|Cognos Analytics, Tableau and PowerBI|Used for better visualization|",
      "metadata": {
        "jp-MarkdownHeadingCollapsed": true
      }
    },
    {
      "cell_type": "markdown",
      "source": "### Below are a few examples of evaluating arithmetic expressions in Python\n\n",
      "metadata": {}
    },
    {
      "cell_type": "code",
      "source": "#Example for addition 2 nos\na=78\nb=90\nc=a+b\nprint(c)\n#Example for subtraction 2 nos\na=78\nb=90\nc=a-b\nprint(c)\n#Example for multiplication 2 nos\na=78\nb=90\nc=a*b\nprint(c)\n#Example for division 2 nos\na=78\nb=90\nc=a/b\nprint(c)\n",
      "metadata": {
        "trusted": true
      },
      "outputs": [
        {
          "name": "stdout",
          "text": "168\n-12\n7020\n0.8666666666666667\n",
          "output_type": "stream"
        }
      ],
      "execution_count": 4
    },
    {
      "cell_type": "code",
      "source": "(3*4)+5 #This a simple arithmetic expression to mutiply then add integers",
      "metadata": {
        "trusted": true
      },
      "outputs": [
        {
          "execution_count": 5,
          "output_type": "execute_result",
          "data": {
            "text/plain": "17"
          },
          "metadata": {}
        }
      ],
      "execution_count": 5
    },
    {
      "cell_type": "code",
      "source": "#This will convert 200 minutes to hours by diving by 60\na=200\nb=a/60\ny = \"{:.2f}\".format(b)\nprint(a,\"minutes to Hours Conversion is:\",y,\"hours\")",
      "metadata": {
        "trusted": true
      },
      "outputs": [
        {
          "name": "stdout",
          "text": "200 minutes to Hours Conversion is: 3.33 hours\n",
          "output_type": "stream"
        }
      ],
      "execution_count": 6
    },
    {
      "cell_type": "markdown",
      "source": "### Objectives:\n- To get a basic idea of teh Jupyter Notebook\n- To understand different markdown functions\n- List of popular langauges for Data Science\n    - Python\n    - Scala\n    - R\n    - Julia\n  ",
      "metadata": {}
    },
    {
      "cell_type": "markdown",
      "source": "## Author: \nDurgesh Katigar",
      "metadata": {}
    },
    {
      "cell_type": "code",
      "source": "",
      "metadata": {
        "trusted": true
      },
      "outputs": [],
      "execution_count": null
    }
  ]
}