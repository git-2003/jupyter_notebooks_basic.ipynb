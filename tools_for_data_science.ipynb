{
  "metadata": {
    "kernelspec": {
      "name": "python",
      "display_name": "Python (Pyodide)",
      "language": "python"
    },
    "language_info": {
      "codemirror_mode": {
        "name": "python",
        "version": 3
      },
      "file_extension": ".py",
      "mimetype": "text/x-python",
      "name": "python",
      "nbconvert_exporter": "python",
      "pygments_lexer": "ipython3",
      "version": "3.8"
    }
  },
  "nbformat_minor": 4,
  "nbformat": 4,
  "cells": [
    {
      "cell_type": "markdown",
      "source": "# Tools for Data Science\n",
      "metadata": {}
    },
    {
      "cell_type": "markdown",
      "source": "### Introduction for the Data Science Tools and Tasks:\n### The Data Science Task Categories include:\n1) Data Management -  storage, management and retrieval of data\n2) Data Integration and Transformation - streamline data pipelines and automate data processing tasks\n3) Data Visualization - provide graphical representation of data and assist with communicating insights\n4) Modelling - enable Building, Deployment, Monitoring and Assessment of Data and Machine Learning models\n",
      "metadata": {}
    },
    {
      "cell_type": "markdown",
      "source": "### List of Data Science languages\n- Python\n- R\n- SQL\n- Java\n- Julia\n- Scala",
      "metadata": {}
    },
    {
      "cell_type": "markdown",
      "source": "### List of Data Science Libraries:\n- Matiplotlib\n- Plotly\n- Keras\n- TensorFlow\n- Pytorch\n- Scrapy\n- Numpy\n   ",
      "metadata": {}
    },
    {
      "cell_type": "markdown",
      "source": "### Below is the Table for Data Science Tools and it's functions\n| Data science Tools | Names of the tools | Function|\n|--------------------|--------------------|---------|\n|Data management | MongoDB and Apache Cassandra | Used for No SQL Databases|\n|Data Integration and Transformation |Apache Airflow and Apache Kafka|Used for integration|\n|Data Visualization|Cognos Analytics, Tableau and PowerBI|Used for better visualization|",
      "metadata": {}
    },
    {
      "cell_type": "markdown",
      "source": "## This is the example for Arithmetic expression\n#### Arithmetic expressions consist of arithmetic terms that are combined by arithmetic operations.\n#### An arithmetic expression consists of arithmetic terms, such as x, x2, xy, or 3xy2, combined by arithmetic operations, such as addition, subtraction, multiplication, and division.\n#### Arithmetic expressions can appear in arithmetic relations, such as equality and inequality. Arithmetic expressions can be linear (such as x < z + 3y) or nonlinear (such as x < z2 + y*z + 3y).",
      "metadata": {}
    },
    {
      "cell_type": "code",
      "source": "#Example for multiplying 2 nos\na=78\nb=90\nc=a*b\nprint(c)\n",
      "metadata": {
        "trusted": true
      },
      "outputs": [
        {
          "name": "stdout",
          "text": "7020\n",
          "output_type": "stream"
        }
      ],
      "execution_count": 3
    },
    {
      "cell_type": "code",
      "source": "#Code for converting minutes to hours\na=89\nb=a/60\ny = \"{:.2f}\".format(b)\nprint(a,\"minutes to Hours Conversion is:\",y,\"hours\")",
      "metadata": {
        "trusted": true
      },
      "outputs": [
        {
          "name": "stdout",
          "text": "89 minutes to Hours Conversion is: 1.48 hours\n",
          "output_type": "stream"
        }
      ],
      "execution_count": 11
    },
    {
      "cell_type": "markdown",
      "source": "### Objectives of the Notebook\n- To get a basic idea of teh Jupyter Notebook\n- To understand different markdown functions\n  ",
      "metadata": {}
    },
    {
      "cell_type": "markdown",
      "source": "### Author's name: Durgesh Katigar",
      "metadata": {}
    },
    {
      "cell_type": "code",
      "source": "",
      "metadata": {
        "trusted": true
      },
      "outputs": [],
      "execution_count": null
    }
  ]
}